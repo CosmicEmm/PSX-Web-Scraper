{
 "cells": [
  {
   "cell_type": "code",
   "execution_count": 1,
   "id": "6b1da87f-4870-42b9-88ba-fa764187c3b1",
   "metadata": {},
   "outputs": [],
   "source": [
    "# Import required libraries\n",
    "from bs4 import BeautifulSoup\n",
    "import requests\n",
    "from datetime import datetime\n",
    "import csv\n",
    "import time\n",
    "import pandas as pd"
   ]
  },
  {
   "cell_type": "markdown",
   "id": "c53f72b8-7526-48e8-a01a-1ad551a402d9",
   "metadata": {},
   "source": [
    "### Step 1: Connect to the website and fetch HTML content"
   ]
  },
  {
   "cell_type": "code",
   "execution_count": null,
   "id": "c94ddb81-e12f-4fef-ac48-cb73108e781a",
   "metadata": {
    "collapsed": true,
    "jupyter": {
     "outputs_hidden": true
    },
    "scrolled": true
   },
   "outputs": [],
   "source": [
    "URL = 'https://dps.psx.com.pk/'\n",
    "page = requests.get(URL)\n",
    "\n",
    "# Parse the webpage using BeautifulSoup\n",
    "soup_raw = BeautifulSoup(page.content, 'html.parser')\n",
    "\n",
    "soup_raw  # view similar structure via Ctrl+Shift+I in browser"
   ]
  },
  {
   "cell_type": "markdown",
   "id": "413fc4d5-d731-4aee-92e2-a304aac1ca13",
   "metadata": {},
   "source": [
    "### Step 2: Prettify and re-parse the HTML for better formatting"
   ]
  },
  {
   "cell_type": "code",
   "execution_count": null,
   "id": "5a434cda-08e3-46b4-a731-a83d86811560",
   "metadata": {
    "collapsed": true,
    "jupyter": {
     "outputs_hidden": true
    }
   },
   "outputs": [],
   "source": [
    "soup = BeautifulSoup(soup_raw.prettify(), 'html.parser')\n",
    "soup"
   ]
  },
  {
   "cell_type": "markdown",
   "id": "c141cd09-7889-47a2-be5f-0e888b61ac9c",
   "metadata": {},
   "source": [
    "### Step 3: Extract KSE-100 Index and Percentage Change"
   ]
  },
  {
   "cell_type": "code",
   "execution_count": 4,
   "id": "63da5747-8fcc-43a6-ac76-84b31eec8faf",
   "metadata": {},
   "outputs": [
    {
     "data": {
      "text/plain": [
       "'156,732.87-1,732.18 (-1.09%)'"
      ]
     },
     "execution_count": 4,
     "metadata": {},
     "output_type": "execute_result"
    }
   ],
   "source": [
    "kse100 = soup.find(\"h1\", class_=\"marketIndices__price\").get_text(strip=True) # 'class' is a reserved keyword, so we use 'class_' instead\n",
    "kse100"
   ]
  },
  {
   "cell_type": "code",
   "execution_count": 5,
   "id": "5d6426d5-4140-43d0-b91c-a1f982ed5b17",
   "metadata": {},
   "outputs": [
    {
     "name": "stdout",
     "output_type": "stream",
     "text": [
      "CurrentIndex:  156,732.87\n",
      "Percent Change:  1,732.18 (-1.09%)\n"
     ]
    }
   ],
   "source": [
    "# Slice the string to separate index and percentage\n",
    "current_index = kse100[:10]\n",
    "percent_change = kse100[11:]\n",
    "\n",
    "print(\"CurrentIndex: \", current_index)\n",
    "print(\"Percent Change: \", percent_change)"
   ]
  },
  {
   "cell_type": "markdown",
   "id": "3ee29e95-f125-4f1b-afb2-e1e60ff56c68",
   "metadata": {},
   "source": [
    "### Step 4: Capture current system time"
   ]
  },
  {
   "cell_type": "code",
   "execution_count": 6,
   "id": "9bf7e979-1208-4095-bd0e-de66928371c5",
   "metadata": {},
   "outputs": [
    {
     "name": "stdout",
     "output_type": "stream",
     "text": [
      "Time: 17:08:52\n"
     ]
    }
   ],
   "source": [
    "current_time = datetime.now().strftime(\"%H:%M:%S\")\n",
    "print(\"Time:\", current_time)"
   ]
  },
  {
   "cell_type": "markdown",
   "id": "d74832d7-21b6-4085-b42a-72cc9819e987",
   "metadata": {},
   "source": [
    "### Step 5: Create CSV file and write header"
   ]
  },
  {
   "cell_type": "code",
   "execution_count": 7,
   "id": "3a0c281f-3d21-4fd2-9276-4234627b5d56",
   "metadata": {},
   "outputs": [],
   "source": [
    "# CSV header\n",
    "header = ['Time', 'Current Index', 'Percent Change']\n",
    "\n",
    "# Create CSV file (write mode 'w' — overwrites if exists)\n",
    "with open('PSXWebScraperDataset.csv', 'w', newline='', encoding='UTF-8') as f:\n",
    "    writer = csv.writer(f)\n",
    "    writer.writerow(header)"
   ]
  },
  {
   "cell_type": "markdown",
   "id": "04e895de-43ca-49cc-98b0-d3a6bb23018d",
   "metadata": {},
   "source": [
    "### Step 6: Define a function to repeatedly append data"
   ]
  },
  {
   "cell_type": "code",
   "execution_count": 8,
   "id": "b09208f0-7eb1-4c0e-9509-5301e8b1b6c0",
   "metadata": {},
   "outputs": [],
   "source": [
    "def append_data():\n",
    "    \"\"\"Fetch latest PSX KSE-100 index and append it to CSV.\"\"\"\n",
    "    try:\n",
    "        url = 'https://dps.psx.com.pk/'\n",
    "        page = requests.get(url)\n",
    "        \n",
    "        soup = BeautifulSoup(page.content, 'html.parser')\n",
    "        kse100 = soup.find(\"h1\", class_=\"marketIndices__price\").get_text(strip=True)\n",
    "        \n",
    "        current_index = kse100[:10]\n",
    "        percent_change = kse100[11:]\n",
    "        current_time = datetime.now().strftime(\"%H:%M:%S\")\n",
    "        \n",
    "        data = [current_time, current_index, percent_change]\n",
    "        \n",
    "        # Append data to the existing CSV file\n",
    "        with open('PSXWebScraperDataset.csv', 'a', newline='', encoding='UTF-8') as f:\n",
    "            writer = csv.writer(f)\n",
    "            writer.writerow(data)\n",
    "            \n",
    "        print(f\"[{current_time}] Data appended successfully.\")\n",
    "        \n",
    "    except Exception as e:\n",
    "        print(f\"Error fetching data: {e}\")"
   ]
  },
  {
   "cell_type": "markdown",
   "id": "0a7f74e4-2ddd-4f3e-be97-060670608d31",
   "metadata": {},
   "source": [
    "### Step 7: Run scraper in a continuous loop (every 10 seconds)"
   ]
  },
  {
   "cell_type": "code",
   "execution_count": 9,
   "id": "898922a0-6277-4507-b3a4-ef124642cfec",
   "metadata": {},
   "outputs": [
    {
     "name": "stdout",
     "output_type": "stream",
     "text": [
      "[17:08:54] Data appended successfully.\n",
      "[17:09:05] Data appended successfully.\n",
      "[17:09:16] Data appended successfully.\n",
      "[17:09:28] Data appended successfully.\n",
      "[17:09:39] Data appended successfully.\n",
      "[17:09:51] Data appended successfully.\n",
      "[17:10:02] Data appended successfully.\n",
      "[17:10:13] Data appended successfully.\n",
      "[17:10:25] Data appended successfully.\n",
      "[17:10:36] Data appended successfully.\n",
      "Scraper stopped by user.\n"
     ]
    }
   ],
   "source": [
    "try:\n",
    "    while True:\n",
    "        append_data()\n",
    "        time.sleep(10)  # delay in seconds\n",
    "except KeyboardInterrupt:\n",
    "    print(\"Scraper stopped by user.\")"
   ]
  },
  {
   "cell_type": "markdown",
   "id": "a43d3019-e4c1-49fd-a0e8-7efe26b68536",
   "metadata": {},
   "source": [
    "### Step 8: Load the saved dataset into Pandas DataFrame"
   ]
  },
  {
   "cell_type": "code",
   "execution_count": 10,
   "id": "509f19d2-0aca-4784-8ed0-5c2b1605b6d6",
   "metadata": {},
   "outputs": [
    {
     "data": {
      "text/html": [
       "<div>\n",
       "<style scoped>\n",
       "    .dataframe tbody tr th:only-of-type {\n",
       "        vertical-align: middle;\n",
       "    }\n",
       "\n",
       "    .dataframe tbody tr th {\n",
       "        vertical-align: top;\n",
       "    }\n",
       "\n",
       "    .dataframe thead th {\n",
       "        text-align: right;\n",
       "    }\n",
       "</style>\n",
       "<table border=\"1\" class=\"dataframe\">\n",
       "  <thead>\n",
       "    <tr style=\"text-align: right;\">\n",
       "      <th></th>\n",
       "      <th>Time</th>\n",
       "      <th>Current Index</th>\n",
       "      <th>Percent Change</th>\n",
       "    </tr>\n",
       "  </thead>\n",
       "  <tbody>\n",
       "    <tr>\n",
       "      <th>0</th>\n",
       "      <td>17:08:54</td>\n",
       "      <td>156,732.87</td>\n",
       "      <td>1,732.18 (-1.09%)</td>\n",
       "    </tr>\n",
       "    <tr>\n",
       "      <th>1</th>\n",
       "      <td>17:09:05</td>\n",
       "      <td>156,732.87</td>\n",
       "      <td>1,732.18 (-1.09%)</td>\n",
       "    </tr>\n",
       "    <tr>\n",
       "      <th>2</th>\n",
       "      <td>17:09:16</td>\n",
       "      <td>156,732.87</td>\n",
       "      <td>1,732.18 (-1.09%)</td>\n",
       "    </tr>\n",
       "    <tr>\n",
       "      <th>3</th>\n",
       "      <td>17:09:28</td>\n",
       "      <td>156,732.87</td>\n",
       "      <td>1,732.18 (-1.09%)</td>\n",
       "    </tr>\n",
       "    <tr>\n",
       "      <th>4</th>\n",
       "      <td>17:09:39</td>\n",
       "      <td>156,732.87</td>\n",
       "      <td>1,732.18 (-1.09%)</td>\n",
       "    </tr>\n",
       "    <tr>\n",
       "      <th>5</th>\n",
       "      <td>17:09:51</td>\n",
       "      <td>156,732.87</td>\n",
       "      <td>1,732.18 (-1.09%)</td>\n",
       "    </tr>\n",
       "    <tr>\n",
       "      <th>6</th>\n",
       "      <td>17:10:02</td>\n",
       "      <td>156,732.87</td>\n",
       "      <td>1,732.18 (-1.09%)</td>\n",
       "    </tr>\n",
       "    <tr>\n",
       "      <th>7</th>\n",
       "      <td>17:10:13</td>\n",
       "      <td>156,732.87</td>\n",
       "      <td>1,732.18 (-1.09%)</td>\n",
       "    </tr>\n",
       "    <tr>\n",
       "      <th>8</th>\n",
       "      <td>17:10:25</td>\n",
       "      <td>156,732.87</td>\n",
       "      <td>1,732.18 (-1.09%)</td>\n",
       "    </tr>\n",
       "    <tr>\n",
       "      <th>9</th>\n",
       "      <td>17:10:36</td>\n",
       "      <td>156,732.87</td>\n",
       "      <td>1,732.18 (-1.09%)</td>\n",
       "    </tr>\n",
       "  </tbody>\n",
       "</table>\n",
       "</div>"
      ],
      "text/plain": [
       "       Time Current Index     Percent Change\n",
       "0  17:08:54    156,732.87  1,732.18 (-1.09%)\n",
       "1  17:09:05    156,732.87  1,732.18 (-1.09%)\n",
       "2  17:09:16    156,732.87  1,732.18 (-1.09%)\n",
       "3  17:09:28    156,732.87  1,732.18 (-1.09%)\n",
       "4  17:09:39    156,732.87  1,732.18 (-1.09%)\n",
       "5  17:09:51    156,732.87  1,732.18 (-1.09%)\n",
       "6  17:10:02    156,732.87  1,732.18 (-1.09%)\n",
       "7  17:10:13    156,732.87  1,732.18 (-1.09%)\n",
       "8  17:10:25    156,732.87  1,732.18 (-1.09%)\n",
       "9  17:10:36    156,732.87  1,732.18 (-1.09%)"
      ]
     },
     "execution_count": 10,
     "metadata": {},
     "output_type": "execute_result"
    }
   ],
   "source": [
    "df = pd.read_csv(r'G:\\My Drive\\Repos\\PSX Web Scraper\\PSXWebScraperDataset.csv')\n",
    "df"
   ]
  }
 ],
 "metadata": {
  "kernelspec": {
   "display_name": "Python 3 (ipykernel)",
   "language": "python",
   "name": "python3"
  },
  "language_info": {
   "codemirror_mode": {
    "name": "ipython",
    "version": 3
   },
   "file_extension": ".py",
   "mimetype": "text/x-python",
   "name": "python",
   "nbconvert_exporter": "python",
   "pygments_lexer": "ipython3",
   "version": "3.13.5"
  }
 },
 "nbformat": 4,
 "nbformat_minor": 5
}
